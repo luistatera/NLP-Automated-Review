{
  "cells": [
    {
      "cell_type": "markdown",
      "id": "4484bfe3",
      "metadata": {
        "id": "4484bfe3"
      },
      "source": [
        "# 🧠 NLP Project: Automated Review Analysis and Product Recommendations\n",
        "\n",
        "> A Project for Ironhack AI/ML Bootcamp by **Luis Guimarães**\n",
        "\n",
        "---\n",
        "\n",
        "## 📌 Project Overview\n",
        "\n",
        "This project automates the analysis of customer reviews for fashion products on Amazon using Natural Language Processing (NLP). The goal is to help small e-commerce businesses extract meaningful insights from large volumes of textual data — identifying product sentiment, clustering products, and generating helpful summaries for marketing and product teams.\n",
        "\n",
        "---\n",
        "\n",
        "## 🧪 Objectives\n",
        "\n",
        "1. **Sentiment Classification**  \n",
        "   Predict whether customer reviews are *positive*, *negative*, or *neutral* based on review text.\n",
        "\n",
        "2. **Product Clustering**  \n",
        "   Group products into meta-categories using semantic similarity.\n",
        "\n",
        "3. **Review Summarization**  \n",
        "   Summarize reviews (positive and negative) and generate product recommendations using generative AI.\n"
      ]
    },
    {
      "cell_type": "code",
      "execution_count": 4,
      "id": "74ccc8a1",
      "metadata": {
        "id": "74ccc8a1",
        "colab": {
          "base_uri": "https://localhost:8080/"
        },
        "outputId": "272aa906-b125-40cc-a907-754e8ffcfc6b"
      },
      "outputs": [
        {
          "output_type": "stream",
          "name": "stdout",
          "text": [
            "Drive already mounted at /content/drive; to attempt to forcibly remount, call drive.mount(\"/content/drive\", force_remount=True).\n"
          ]
        }
      ],
      "source": [
        "# Mount google drive\n",
        "from google.colab import drive\n",
        "drive.mount('/content/drive')\n",
        "\n",
        "#Install required libraries\n",
        "!pip install -q numpy sentence-transformers scikit-learn transformers openai"
      ]
    },
    {
      "cell_type": "code",
      "execution_count": 5,
      "id": "4GpMFCbi5A9U",
      "metadata": {
        "id": "4GpMFCbi5A9U",
        "colab": {
          "base_uri": "https://localhost:8080/"
        },
        "outputId": "8d997d91-a77a-4812-f27d-cb511684fdf3"
      },
      "outputs": [
        {
          "output_type": "stream",
          "name": "stdout",
          "text": [
            "{\"rating\": 3.0, \"title\": \"Arrived Damaged : liquid in hub locker!\", \"text\": \"Unfortunately Amazon in their wisdom (cough, cough) decided to ship the snowsuit in a vinyl bag with holes in it!  There was no other bag to protect the snowsuit inside vinyl bag with all the holes.  This is what happened:  Arrived in hub locker. It was the very top locker. Opened it & pulled the pkg out getting a very wet & nasty surprise at the same time. My senses were assaulted. Smells like tea tree oil. Feels like conditioner or lotion.  I can\\u2019t understand how the delivery person a) didn\\u2019t smell that mess when they shoved the pkg in b) didn\\u2019t see the mess when they shoved it in - tho if they were short I guess that would explain it bc I\\u2019m 5\\u201910\\u201d & I didn\\u2019t see it until the pkg was in my hands. The locker was up high & dark, but I could smell it the minute I walked into the hub locker room. I happen to be extremely allergic to tea tree oil.  It\\u2019s made from mellaleuca trees which grow all over southwest Florida where I was raised.  Tho native to Australia they were used to help drain the swamps of Florida generations ago bc they soak up so much water.  It has a very distinct smell & unfortunately is frequently used as a \\u201ccarrier oil\\u201d for other oils & body lotions,  shampoos, conditioners, etc., so I have to be hyper-vigilant to avoid exposure.  Instead- Last night I got to suck down Benadryl & pray my throat didn\\u2019t close while keeping my epi-pens handy.  The liquid went through the holes & onto the snowsuit as you can clearly see in the pictures.  So I guess the suit is waterproof.  Looks true to size.  Elastic appears stretchy.  I\\u2019m super annoyed that this arrived in this condition & could have easily been avoided by amazon properly wrapping it to avoid the elements whatever they may be.\", \"images\": [{\"small_image_url\": \"https://m.media-amazon.com/images/I/710WrjJi+hL._SL256_.jpg\", \"medium_image_url\": \"https://m.media-amazon.com/images/I/710WrjJi+hL._SL800_.jpg\", \"large_image_url\": \"https://m.media-amazon.com/images/I/710WrjJi+hL._SL1600_.jpg\", \"attachment_type\": \"IMAGE\"}, {\"small_image_url\": \"https://m.media-amazon.com/images/I/712+yNg8COL._SL256_.jpg\", \"medium_image_url\": \"https://m.media-amazon.com/images/I/712+yNg8COL._SL800_.jpg\", \"large_image_url\": \"https://m.media-amazon.com/images/I/712+yNg8COL._SL1600_.jpg\", \"attachment_type\": \"IMAGE\"}, {\"small_image_url\": \"https://m.media-amazon.com/images/I/7132ByALa+L._SL256_.jpg\", \"medium_image_url\": \"https://m.media-amazon.com/images/I/7132ByALa+L._SL800_.jpg\", \"large_image_url\": \"https://m.media-amazon.com/images/I/7132ByALa+L._SL1600_.jpg\", \"attachment_type\": \"IMAGE\"}, {\"small_image_url\": \"https://m.media-amazon.com/images/I/718OTnxL+CL._SL256_.jpg\", \"medium_image_url\": \"https://m.media-amazon.com/images/I/718OTnxL+CL._SL800_.jpg\", \"large_image_url\": \"https://m.media-amazon.com/images/I/718OTnxL+CL._SL1600_.jpg\", \"attachment_type\": \"IMAGE\"}, {\"small_image_url\": \"https://m.media-amazon.com/images/I/71I6b8DyazL._SL256_.jpg\", \"medium_image_url\": \"https://m.media-amazon.com/images/I/71I6b8DyazL._SL800_.jpg\", \"large_image_url\": \"https://m.media-amazon.com/images/I/71I6b8DyazL._SL1600_.jpg\", \"attachment_type\": \"IMAGE\"}, {\"small_image_url\": \"https://m.media-amazon.com/images/I/71v4KKrIXuL._SL256_.jpg\", \"medium_image_url\": \"https://m.media-amazon.com/images/I/71v4KKrIXuL._SL800_.jpg\", \"large_image_url\": \"https://m.media-amazon.com/images/I/71v4KKrIXuL._SL1600_.jpg\", \"attachment_type\": \"IMAGE\"}], \"asin\": \"B096S6LZV4\", \"parent_asin\": \"B09NSZ5QMF\", \"user_id\": \"AFKZENTNBQ7A7V7UXW5JJI6UGRYQ\", \"timestamp\": 1677938767351, \"helpful_vote\": 0, \"verified_purchase\": true}\n",
            "{\"rating\": 3.0, \"title\": \"Useless under 40 degrees.\", \"text\": \"Useless under 40 degrees unless you\\u2019re just running to the mailbox & back & don\\u2019t mind freezing during that jog.  Zero interior pockets so nowhere to put glasses, iPhone, etc other than the 2 exterior pockets which should be larger imo as they are the only pockets.  Seems to me like they used a too large needle with the thread in mine bc it\\u2019s like the air comes through every single hole the thread is in that they used for decoration/insulation to give it a quilted effect.  With cotton fabrics you wash it & the material will shrink around the thread & you don\\u2019t have the air coming through the too large holes made by the needle.  I usually stick with the non-quilted versions of non-cotton coats fit this reason.  It looks nice, but it does not keep me warm in northern Colorado where we dip into negative temps & have crazy high winds.  I was not impressed with it. Got it in tye try before you buy program without realizing I would have to pay for bags to return the items I tried or that I would have to drop them off at ups. I\\u2019m disabled.  I don\\u2019t drive.  So fun to pay for taxis to return stuff when Amazon has a flipping hub at my apt complex.  Why can\\u2019t they make returns simpler?  Delivered to the hub & I should be able to return it to the hub imo.  Really ticks me off I don\\u2019t get anything delivered to my door anymore since moving to an apt. As a disabled person it\\u2019s a massive pain in my tush.  Every step is agony & the stuff weighs more than I am supposed to lift.  It\\u2019s a long walk when you\\u2019re in chronic pain.  Should have sent it back with the rest bc now I\\u2019ll have to pay for another $3 bag & taxis, but I wanted to try it in colder weather since it matched the color of my boots.  My bad.  Useless in cold weather.  The other issue I noticed was I tried 3 Columbia jackets in the same size (xl) bc I like to wear fleece & layers under my coats due to the temps here & the difference in sizing was ridiculous.  This was a true xl while the other two were not.  Easily managed camisole, T-shirt, & long sleeved, very thick, fleece shirt under it.  Just does not keep you warm on its own.  It\\u2019s a spring jacket imo not winter.  It has a fuzzy fur inside & I have coke to prefer fleece lined jackets bc I have service dogs & their fur is easier to get off flat fleece than fluffy fur.\", \"images\": [], \"asin\": \"B09KMDBDCN\", \"parent_asin\": \"B08NGL3X17\", \"user_id\": \"AFKZENTNBQ7A7V7UXW5JJI6UGRYQ\", \"timestamp\": 1677083819242, \"helpful_vote\": 0, \"verified_purchase\": false}\n",
            "{\"rating\": 4.0, \"title\": \"Not waterproof, but a very comfy shoe.\", \"text\": \"I purchased these bc they are supposed to be waterproof. Mine are not.  Wore them in Colorado in 36 degree weather & I can feel air coming into the toe bed so my toes were cold.  Maybe they didn\\u2019t waterproof mine all the way idk or not at all bc mine are not.  I wire regular athletic socks today, but will try them again with wool socks later.  Either way they are one of the most comfy boots I have ever worn. The cushioning is magnificent. I\\u2019m disabled & have bad knees, hips, & spine & these were the most comfy shoes I\\u2019ve probably had in my life. I say that as an LL Bean, Land\\u2019s End, Merrel, Keen, & Columbia long time wearer.  I got the baby blue color for around $40 with tax which is a great deal imo.  The only big issue is I purchased them for winter walks with my dogs so they won\\u2019t work for their intended purposes. My dilemma is whether to keep them for spring boots.  The light color means they will get dirty fast so idk.  I just know they are crazy comfy & feel wonderful on my feet. I might try them with some fleece socks too & probably just spray them with boot waterproofing.  They are like a canvas tennis shoe. The material they are made out of.  So super light which I love due to my disabilities, but I don\\u2019t think I\\u2019ll be wearing these in the back country walks bc of the color I picked. Which I picked solely based on the price. I\\u2019m cost effective not cheap lol.  I admit when I got them from the amazon locker they were so incredibly light that I expected garbage.  While these are very light they are also an excellent walking boot imo tho if you need them to be waterproofed good luck bc mine are not.  If you are sticking to plowed roads & sidewalks & avoid big drifts of snow & wear a thick wool sock these will probably work very well if you\\u2019re looking for a comfy hiking boot.  Unfortunately I need something that can go off roads into the wilderness & snow drifts bc that\\u2019s where my service dogs prefer to walk. Lol.\", \"images\": [], \"asin\": \"B096N5WK8Q\", \"parent_asin\": \"B07RGM3DYC\", \"user_id\": \"AFKZENTNBQ7A7V7UXW5JJI6UGRYQ\", \"timestamp\": 1675524098918, \"helpful_vote\": 11, \"verified_purchase\": true}\n"
          ]
        }
      ],
      "source": [
        "!zcat /content/drive/MyDrive/amazon_review/reviews.json.gz | head -n 3\n"
      ]
    },
    {
      "cell_type": "markdown",
      "id": "r_ZJV1HW6z3p",
      "metadata": {
        "id": "r_ZJV1HW6z3p"
      },
      "source": [
        "## Convert JSON to Parquet\n"
      ]
    },
    {
      "cell_type": "code",
      "execution_count": 6,
      "id": "K6s3NO5g6w6x",
      "metadata": {
        "colab": {
          "base_uri": "https://localhost:8080/"
        },
        "id": "K6s3NO5g6w6x",
        "outputId": "bdad4af4-5386-4cd8-af63-5e50c0749bff"
      },
      "outputs": [
        {
          "output_type": "stream",
          "name": "stdout",
          "text": [
            "['main_category', 'title', 'average_rating', 'rating_number', 'features', 'description', 'price', 'images', 'videos', 'store', 'categories', 'details', 'parent_asin', 'bought_together']\n",
            "(1304, 23)\n",
            "shape: (5, 10)\n",
            "┌────────┬────────────┬────────────┬───────────┬───┬───────────┬───────────┬───────────┬───────────┐\n",
            "│ rating ┆ title      ┆ text       ┆ images    ┆ … ┆ user_id   ┆ timestamp ┆ helpful_v ┆ verified_ │\n",
            "│ ---    ┆ ---        ┆ ---        ┆ ---       ┆   ┆ ---       ┆ ---       ┆ ote       ┆ purchase  │\n",
            "│ f64    ┆ str        ┆ str        ┆ list[stru ┆   ┆ str       ┆ i64       ┆ ---       ┆ ---       │\n",
            "│        ┆            ┆            ┆ ct[4]]    ┆   ┆           ┆           ┆ i64       ┆ bool      │\n",
            "╞════════╪════════════╪════════════╪═══════════╪═══╪═══════════╪═══════════╪═══════════╪═══════════╡\n",
            "│ 3.0    ┆ Arrived    ┆ Unfortunat ┆ [{\"https: ┆ … ┆ AFKZENTNB ┆ 167793876 ┆ 0         ┆ true      │\n",
            "│        ┆ Damaged :  ┆ ely Amazon ┆ //m.media ┆   ┆ Q7A7V7UXW ┆ 7351      ┆           ┆           │\n",
            "│        ┆ liquid in  ┆ in their … ┆ -amazon.c ┆   ┆ 5JJI6UGRY ┆           ┆           ┆           │\n",
            "│        ┆ hu…        ┆            ┆ om/…      ┆   ┆ Q         ┆           ┆           ┆           │\n",
            "│ 3.0    ┆ Useless    ┆ Useless    ┆ []        ┆ … ┆ AFKZENTNB ┆ 167708381 ┆ 0         ┆ false     │\n",
            "│        ┆ under 40   ┆ under 40   ┆           ┆   ┆ Q7A7V7UXW ┆ 9242      ┆           ┆           │\n",
            "│        ┆ degrees.   ┆ degrees    ┆           ┆   ┆ 5JJI6UGRY ┆           ┆           ┆           │\n",
            "│        ┆            ┆ unles…     ┆           ┆   ┆ Q         ┆           ┆           ┆           │\n",
            "│ 4.0    ┆ Not waterp ┆ I          ┆ []        ┆ … ┆ AFKZENTNB ┆ 167552409 ┆ 11        ┆ true      │\n",
            "│        ┆ roof, but  ┆ purchased  ┆           ┆   ┆ Q7A7V7UXW ┆ 8918      ┆           ┆           │\n",
            "│        ┆ a very     ┆ these bc   ┆           ┆   ┆ 5JJI6UGRY ┆           ┆           ┆           │\n",
            "│        ┆ com…       ┆ they are … ┆           ┆   ┆ Q         ┆           ┆           ┆           │\n",
            "│ 4.0    ┆ Lovely,    ┆ I’ll start ┆ [{\"https: ┆ … ┆ AFKZENTNB ┆ 154511457 ┆ 26        ┆ true      │\n",
            "│        ┆ but QA     ┆ by saying  ┆ //images- ┆   ┆ Q7A7V7UXW ┆ 7507      ┆           ┆           │\n",
            "│        ┆ issues     ┆ I love th… ┆ na.ssl-im ┆   ┆ 5JJI6UGRY ┆           ┆           ┆           │\n",
            "│        ┆ with sew…  ┆            ┆ age…      ┆   ┆ Q         ┆           ┆           ┆           │\n",
            "│ 2.0    ┆ Just ok    ┆ Don't be   ┆ []        ┆ … ┆ AGGZ357AO ┆ 164522337 ┆ 1         ┆ true      │\n",
            "│        ┆            ┆ fooled by  ┆           ┆   ┆ 26RQZVRLG ┆ 2746      ┆           ┆           │\n",
            "│        ┆            ┆ the        ┆           ┆   ┆ U4D4N52DZ ┆           ┆           ┆           │\n",
            "│        ┆            ┆ descrip…   ┆           ┆   ┆ Q         ┆           ┆           ┆           │\n",
            "└────────┴────────────┴────────────┴───────────┴───┴───────────┴───────────┴───────────┴───────────┘\n",
            "shape: (5, 14)\n",
            "┌───────────┬───────────┬───────────┬───────────┬───┬───────────┬───────────┬───────────┬──────────┐\n",
            "│ main_cate ┆ title     ┆ average_r ┆ rating_nu ┆ … ┆ categorie ┆ details   ┆ parent_as ┆ bought_t │\n",
            "│ gory      ┆ ---       ┆ ating     ┆ mber      ┆   ┆ s         ┆ ---       ┆ in        ┆ ogether  │\n",
            "│ ---       ┆ str       ┆ ---       ┆ ---       ┆   ┆ ---       ┆ struct[41 ┆ ---       ┆ ---      │\n",
            "│ str       ┆           ┆ f64       ┆ i64       ┆   ┆ list[str] ┆ ]         ┆ str       ┆ null     │\n",
            "╞═══════════╪═══════════╪═══════════╪═══════════╪═══╪═══════════╪═══════════╪═══════════╪══════════╡\n",
            "│ AMAZON    ┆ BALEAF    ┆ 4.2       ┆ 422       ┆ … ┆ [\"Clothin ┆ {null,nul ┆ B09X1MRDN ┆ null     │\n",
            "│ FASHION   ┆ Women's   ┆           ┆           ┆   ┆ g, Shoes  ┆ l,null,nu ┆ 6         ┆          │\n",
            "│           ┆ Long      ┆           ┆           ┆   ┆ &         ┆ ll,null,n ┆           ┆          │\n",
            "│           ┆ Sleeve    ┆           ┆           ┆   ┆ Jewelry\", ┆ ull…      ┆           ┆          │\n",
            "│           ┆ Zip…      ┆           ┆           ┆   ┆ …         ┆           ┆           ┆          │\n",
            "│ AMAZON    ┆ Merrell   ┆ 2.7       ┆ 4         ┆ … ┆ [\"Clothin ┆ {null,nul ┆ B073C4Q7W ┆ null     │\n",
            "│ FASHION   ┆ Work Moab ┆           ┆           ┆   ┆ g, Shoes  ┆ l,null,nu ┆ 8         ┆          │\n",
            "│           ┆ 2 Vent    ┆           ┆           ┆   ┆ &         ┆ ll,null,n ┆           ┆          │\n",
            "│           ┆ Water…    ┆           ┆           ┆   ┆ Jewelry\", ┆ ull…      ┆           ┆          │\n",
            "│           ┆           ┆           ┆           ┆   ┆ …         ┆           ┆           ┆          │\n",
            "│ AMAZON    ┆ SAS       ┆ 4.7       ┆ 618       ┆ … ┆ [\"Clothin ┆ {null,nul ┆ B0944VG4Y ┆ null     │\n",
            "│ FASHION   ┆ Women's,  ┆           ┆           ┆   ┆ g, Shoes  ┆ l,null,nu ┆ 4         ┆          │\n",
            "│           ┆ Relaxed   ┆           ┆           ┆   ┆ &         ┆ ll,null,n ┆           ┆          │\n",
            "│           ┆ Sandal    ┆           ┆           ┆   ┆ Jewelry\", ┆ ull…      ┆           ┆          │\n",
            "│           ┆           ┆           ┆           ┆   ┆ …         ┆           ┆           ┆          │\n",
            "│ AMAZON    ┆ SheIn     ┆ 3.8       ┆ 999       ┆ … ┆ [\"Clothin ┆ {null,nul ┆ B08JGGF5T ┆ null     │\n",
            "│ FASHION   ┆ Women's   ┆           ┆           ┆   ┆ g, Shoes  ┆ l,null,nu ┆ J         ┆          │\n",
            "│           ┆ Basic     ┆           ┆           ┆   ┆ &         ┆ ll,null,n ┆           ┆          │\n",
            "│           ┆ Stretch   ┆           ┆           ┆   ┆ Jewelry\", ┆ ull…      ┆           ┆          │\n",
            "│           ┆ Pl…       ┆           ┆           ┆   ┆ …         ┆           ┆           ┆          │\n",
            "│ AMAZON    ┆ Michael   ┆ 4.5       ┆ 6         ┆ … ┆ [\"Clothin ┆ {null,nul ┆ B00ZQMM6B ┆ null     │\n",
            "│ FASHION   ┆ Kors      ┆           ┆           ┆   ┆ g, Shoes  ┆ l,null,nu ┆ I         ┆          │\n",
            "│           ┆ Cindy,    ┆           ┆           ┆   ┆ &         ┆ ll,null,n ┆           ┆          │\n",
            "│           ┆ Women’s   ┆           ┆           ┆   ┆ Jewelry\", ┆ ull…      ┆           ┆          │\n",
            "│           ┆ Cr…       ┆           ┆           ┆   ┆ …         ┆           ┆           ┆          │\n",
            "└───────────┴───────────┴───────────┴───────────┴───┴───────────┴───────────┴───────────┴──────────┘\n"
          ]
        }
      ],
      "source": [
        "import polars as pl\n",
        "\n",
        "# Read reviews\n",
        "reviews = pl.read_ndjson(\n",
        "    \"/content/drive/MyDrive/amazon_review/reviews.json.gz\",\n",
        "    n_rows=190000  # Increased from 200\n",
        ")\n",
        "\n",
        "# Read metadata by forcing all columns to be read as strings\n",
        "# by setting infer_schema_length to 0.\n",
        "meta = pl.read_ndjson(\n",
        "    \"/content/drive/MyDrive/amazon_review/metadata.json.gz\",\n",
        "    n_rows=190000 # Increased from 200\n",
        ")\n",
        "\n",
        "# Join\n",
        "df = reviews.join(meta, left_on=\"asin\", right_on=\"parent_asin\", how=\"inner\")\n",
        "\n",
        "# Output\n",
        "print(meta.columns)\n",
        "print(df.shape)\n",
        "\n",
        "print(reviews.head(5))\n",
        "print(meta.head(5))"
      ]
    },
    {
      "cell_type": "markdown",
      "id": "Q9hTT6e760wQ",
      "metadata": {
        "id": "Q9hTT6e760wQ"
      },
      "source": [
        "## Load with lazy loading using Polars"
      ]
    },
    {
      "cell_type": "code",
      "execution_count": 7,
      "id": "S4rVLJRr6xgR",
      "metadata": {
        "colab": {
          "base_uri": "https://localhost:8080/"
        },
        "id": "S4rVLJRr6xgR",
        "outputId": "92a152a6-4592-4298-bd2d-0152e6397b3a"
      },
      "outputs": [
        {
          "output_type": "stream",
          "name": "stdout",
          "text": [
            "1200\n"
          ]
        }
      ],
      "source": [
        "\n",
        "\n",
        "# Filter for clothing/fashion-related products\n",
        "df = df.filter(\n",
        "    df[\"main_category\"]\n",
        "      .cast(str)\n",
        "      .str.to_lowercase()\n",
        "      .str.contains(\"clothing|fashion|apparel|shoes|jewelry\")\n",
        ")\n",
        "\n",
        "# Select and rename relevant fields\n",
        "df = df.select([\n",
        "    \"asin\",\n",
        "    \"text\",\n",
        "    \"rating\",\n",
        "    df[\"title\"], # title from reviews\n",
        "    df[\"features\"],\n",
        "    df[\"description\"],\n",
        "    df[\"main_category\"]\n",
        "]).rename({\n",
        "    \"text\": \"reviewText\",\n",
        "    \"rating\": \"stars\",\n",
        "    \"title\": \"product_title\",\n",
        "    \"main_category\": \"category\"\n",
        "})\n",
        "\n",
        "\n",
        "# First, create both features_str and description_str columns\n",
        "df = df.with_columns([\n",
        "    df[\"features\"].list.join(\", \").alias(\"features_str\"),\n",
        "    df[\"description\"].list.join(\", \").alias(\"description_str\")\n",
        "])\n",
        "\n",
        "# Then build the combined product context\n",
        "df = df.with_columns([\n",
        "    (\n",
        "        df[\"product_title\"].fill_null(\"\") + \" - \" +\n",
        "        df[\"features_str\"].fill_null(\"\") + \" - \" +\n",
        "        df[\"description_str\"].fill_null(\"\")\n",
        "    ).alias(\"product_context\")\n",
        "])\n",
        "\n",
        "print(len(df))\n",
        "#print(df.head())\n"
      ]
    },
    {
      "cell_type": "markdown",
      "id": "wTq0S9v99_8Z",
      "metadata": {
        "id": "wTq0S9v99_8Z"
      },
      "source": [
        "# Cleaning Data"
      ]
    },
    {
      "cell_type": "code",
      "execution_count": 9,
      "id": "zXtgeClg4p3w",
      "metadata": {
        "colab": {
          "base_uri": "https://localhost:8080/"
        },
        "id": "zXtgeClg4p3w",
        "outputId": "2004b6f0-8fad-41ee-cfd8-cbf099eac20f"
      },
      "outputs": [
        {
          "output_type": "stream",
          "name": "stdout",
          "text": [
            "Shape before cleaning: (1200, 10)\n",
            "Shape after dropping nulls: (1200, 10)\n",
            "Shape after stripping whitespace: (1200, 10)\n",
            "Shape after creating combined_category: (1200, 11)\n",
            "Shape after filtering by combined_category length: (1200, 11)\n",
            "Shape after dropping duplicates: (1046, 11)\n",
            "Shape after filtering by reviewText informativeness: (1002, 11)\n"
          ]
        }
      ],
      "source": [
        "import re\n",
        "import polars as pl\n",
        "\n",
        "print(f\"Shape before cleaning: {df.shape}\")\n",
        "\n",
        "# 1. Drop missing or null values\n",
        "df = df.drop_nulls(subset=['product_title', 'category'])\n",
        "print(f\"Shape after dropping nulls: {df.shape}\")\n",
        "\n",
        "\n",
        "# 2. Strip whitespace\n",
        "df = df.with_columns([\n",
        "    pl.col('product_title').cast(pl.Utf8).str.strip_chars().alias('product_title'), # Utf8 - avoids issues if the column have mixed types like numbers or nulls\n",
        "    pl.col('category').cast(pl.Utf8).str.strip_chars().alias('category') #.str.strip_chars() - removes leading and trailing whitespace\n",
        "])\n",
        "print(f\"Shape after stripping whitespace: {df.shape}\")\n",
        "\n",
        "\n",
        "# 3. Create a combined category column\n",
        "df = df.with_columns([\n",
        "    (pl.col('category') + ' ' + pl.col('product_title')).alias('combined_category')\n",
        "])\n",
        "print(f\"Shape after creating combined_category: {df.shape}\")\n",
        "\n",
        "\n",
        "# 4. Filter by string length (ignore when it is too short)\n",
        "df = df.filter(pl.col('combined_category').str.len_chars() > 10)\n",
        "print(f\"Shape after filtering by combined_category length: {df.shape}\")\n",
        "\n",
        "\n",
        "# 5. Drop duplicates\n",
        "df = df.unique(subset=['combined_category'])\n",
        "print(f\"Shape after dropping duplicates: {df.shape}\")\n",
        "\n",
        "\n",
        "# 6. Helper: filter out short or meaningless reviews\n",
        "def is_informative(text, min_words=5):\n",
        "    if not isinstance(text, str):\n",
        "        return False\n",
        "    text = text.strip()\n",
        "    if len(text.split()) < min_words:\n",
        "        return False\n",
        "    if re.fullmatch(r\"[^\\w\\s]+\", text):  # emoji/symbol-only\n",
        "        return False\n",
        "    return True\n",
        "\n",
        "# 7. Apply filter to reviewText\n",
        "df = df.filter(\n",
        "    pl.col(\"reviewText\").map_elements(is_informative, return_dtype=pl.Boolean)\n",
        ")\n",
        "\n",
        "print(f\"Shape after filtering by reviewText informativeness: {df.shape}\")\n",
        "\n",
        "if df.height > 0:\n",
        "    df.head()"
      ]
    },
    {
      "cell_type": "markdown",
      "id": "b715da74",
      "metadata": {
        "id": "b715da74"
      },
      "source": [
        "## 4. Review Sentiment Classification\n",
        "- Transform numbers into labels\n",
        "- ground truth labels"
      ]
    },
    {
      "cell_type": "code",
      "execution_count": 10,
      "id": "ae21896a",
      "metadata": {
        "colab": {
          "base_uri": "https://localhost:8080/"
        },
        "id": "ae21896a",
        "outputId": "bb4f6f01-2bc2-448f-f5f7-f1ec6ba8b851"
      },
      "outputs": [
        {
          "output_type": "stream",
          "name": "stdout",
          "text": [
            "shape: (3, 1)\n",
            "┌──────────────────┐\n",
            "│ sentiment        │\n",
            "│ ---              │\n",
            "│ struct[2]        │\n",
            "╞══════════════════╡\n",
            "│ {\"NEUTRAL\",120}  │\n",
            "│ {\"POSITIVE\",770} │\n",
            "│ {\"NEGATIVE\",112} │\n",
            "└──────────────────┘\n"
          ]
        }
      ],
      "source": [
        "def map_sentiment(stars):\n",
        "    if stars <= 2:\n",
        "        return \"NEGATIVE\"\n",
        "    elif stars == 3:\n",
        "        return \"NEUTRAL\"\n",
        "    else:\n",
        "        return \"POSITIVE\"\n",
        "\n",
        "# Apply the function using map_elements\n",
        "df = df.with_columns([\n",
        "    pl.col('stars').map_elements(map_sentiment, return_dtype=pl.Utf8).alias('sentiment') # Added return_dtype\n",
        "])\n",
        "\n",
        "# Count values and display only the result\n",
        "sentiment_counts = df.select([\n",
        "    pl.col('sentiment').value_counts()\n",
        "])\n",
        "\n",
        "print(sentiment_counts) # Use print instead of implicit display"
      ]
    },
    {
      "cell_type": "markdown",
      "id": "0747bb70",
      "metadata": {
        "id": "0747bb70"
      },
      "source": [
        "## 5. Classify Sentiment with a Pretrained Transformer Model\n",
        " - sentiment-roberta-large-english\n",
        " - zero-shot"
      ]
    },
    {
      "cell_type": "code",
      "execution_count": 11,
      "id": "07d64c42",
      "metadata": {
        "colab": {
          "base_uri": "https://localhost:8080/"
        },
        "id": "07d64c42",
        "outputId": "7c081d20-9740-4771-fd0e-acde20b4b185"
      },
      "outputs": [
        {
          "output_type": "stream",
          "name": "stderr",
          "text": [
            "Device set to use cuda:0\n",
            "sys:1: MapWithoutReturnDtypeWarning: Calling `map_elements` without specifying `return_dtype` can lead to unpredictable results. Specify `return_dtype` to silence this warning.\n",
            "sys:1: MapWithoutReturnDtypeWarning: Calling `map_elements` without specifying `return_dtype` can lead to unpredictable results. Specify `return_dtype` to silence this warning.\n",
            "sys:1: MapWithoutReturnDtypeWarning: Calling `map_elements` without specifying `return_dtype` can lead to unpredictable results. Specify `return_dtype` to silence this warning.\n",
            "sys:1: MapWithoutReturnDtypeWarning: Calling `map_elements` without specifying `return_dtype` can lead to unpredictable results. Specify `return_dtype` to silence this warning.\n",
            "sys:1: MapWithoutReturnDtypeWarning: Calling `map_elements` without specifying `return_dtype` can lead to unpredictable results. Specify `return_dtype` to silence this warning.\n",
            "sys:1: MapWithoutReturnDtypeWarning: Calling `map_elements` without specifying `return_dtype` can lead to unpredictable results. Specify `return_dtype` to silence this warning.\n",
            "sys:1: MapWithoutReturnDtypeWarning: Calling `map_elements` without specifying `return_dtype` can lead to unpredictable results. Specify `return_dtype` to silence this warning.\n",
            "sys:1: MapWithoutReturnDtypeWarning: Calling `map_elements` without specifying `return_dtype` can lead to unpredictable results. Specify `return_dtype` to silence this warning.\n",
            "You seem to be using the pipelines sequentially on GPU. In order to maximize efficiency please use a dataset\n",
            "You seem to be using the pipelines sequentially on GPU. In order to maximize efficiency please use a dataset\n",
            "You seem to be using the pipelines sequentially on GPU. In order to maximize efficiency please use a dataset\n",
            "You seem to be using the pipelines sequentially on GPU. In order to maximize efficiency please use a dataset\n"
          ]
        },
        {
          "output_type": "stream",
          "name": "stdout",
          "text": [
            "(1002, 13)\n"
          ]
        }
      ],
      "source": [
        "from transformers import pipeline\n",
        "import torch\n",
        "\n",
        "device = 0 if torch.cuda.is_available() else -1\n",
        "\n",
        "# zero-shot\n",
        "# Use a pretrained sentiment analysis model\n",
        "#model_pipeline = pipeline(\"sentiment-analysis\", model=\"siebert/sentiment-roberta-large-english\", device=device)\n",
        "\n",
        "model_pipeline = pipeline(\n",
        "    \"sentiment-analysis\",\n",
        "    model=\"siebert/sentiment-roberta-large-english\",\n",
        "    device=device,\n",
        "    truncation=True\n",
        ")\n",
        "\n",
        "# Apply the model to the data already cleaned\n",
        "df = df.with_columns([\n",
        "    pl.col('reviewText').map_elements(lambda x: model_pipeline(x)[0]['label']).alias('model_sentiment')\n",
        "])\n",
        "# Data cleaned and labeled\n",
        "\n",
        "print(df.shape) # Print shape instead of displaying head\n",
        "if df.height > 0:\n",
        "    df.head() # Display head only if not empty"
      ]
    },
    {
      "cell_type": "markdown",
      "id": "uZBJcqaRLoTw",
      "metadata": {
        "id": "uZBJcqaRLoTw"
      },
      "source": [
        "# Evaluation"
      ]
    },
    {
      "cell_type": "code",
      "execution_count": 12,
      "id": "jRMIBOgNyt4K",
      "metadata": {
        "id": "jRMIBOgNyt4K"
      },
      "outputs": [],
      "source": [
        "# Just remove neutral, which is noisy\n",
        "df_binary = df.filter(pl.col('sentiment') != 'NEUTRAL')\n",
        "\n",
        "from sklearn.metrics import classification_report, confusion_matrix\n",
        "\n",
        "#Use a sample of the data 1k\n",
        "df_sample = df_binary.sample(n=min(20000, df_binary.height), seed=42)\n",
        "\n",
        "# Inference label for comparison\n",
        "texts = df_sample['reviewText'].to_list()\n",
        "preds = []\n",
        "for text in texts:\n",
        "    short_text = text[:512]\n",
        "    result = model_pipeline(short_text)\n",
        "    label = result[0]['label']\n",
        "    preds.append(label)\n",
        "\n",
        "# Add the results as a new column\n",
        "df_sample = df_sample.with_columns([\n",
        "    pl.Series(name=\"model_sentiment\", values=preds)\n",
        "])\n",
        "\n",
        "\n",
        "# Compare predictions with ground truth\n",
        "y_true = df_sample['sentiment']\n",
        "y_pred = preds\n"
      ]
    },
    {
      "cell_type": "markdown",
      "source": [
        "## Classification Report"
      ],
      "metadata": {
        "id": "zpGN8BnvbobI"
      },
      "id": "zpGN8BnvbobI"
    },
    {
      "cell_type": "code",
      "execution_count": 13,
      "id": "HPrdWjJrzJSy",
      "metadata": {
        "colab": {
          "base_uri": "https://localhost:8080/"
        },
        "id": "HPrdWjJrzJSy",
        "outputId": "e802bafd-23aa-45c9-e9f4-bc99cbdbef98"
      },
      "outputs": [
        {
          "output_type": "stream",
          "name": "stdout",
          "text": [
            "Accuracy: 0.9569160997732427\n",
            "\n",
            "Classification Report:\n",
            "               precision    recall  f1-score   support\n",
            "\n",
            "    NEGATIVE       0.77      0.95      0.85       112\n",
            "    POSITIVE       0.99      0.96      0.97       770\n",
            "\n",
            "    accuracy                           0.96       882\n",
            "   macro avg       0.88      0.95      0.91       882\n",
            "weighted avg       0.96      0.96      0.96       882\n",
            "\n",
            "\n",
            "Confusion Matrix:\n",
            " [[106   6]\n",
            " [ 32 738]]\n"
          ]
        }
      ],
      "source": [
        "from sklearn.metrics import accuracy_score, classification_report, confusion_matrix\n",
        "\n",
        "print(\"Accuracy:\", accuracy_score(y_true, y_pred))\n",
        "print(\"\\nClassification Report:\\n\", classification_report(y_true, y_pred))\n",
        "print(\"\\nConfusion Matrix:\\n\", confusion_matrix(y_true, y_pred))\n"
      ]
    },
    {
      "cell_type": "markdown",
      "id": "Dr94aOqL7Sbq",
      "metadata": {
        "id": "Dr94aOqL7Sbq"
      },
      "source": [
        "# Confution Matrix"
      ]
    },
    {
      "cell_type": "code",
      "execution_count": 14,
      "id": "3WLSOOgF1q60",
      "metadata": {
        "colab": {
          "base_uri": "https://localhost:8080/",
          "height": 410
        },
        "id": "3WLSOOgF1q60",
        "outputId": "33898881-1da0-407c-c62c-fd2a4d1f3fd1"
      },
      "outputs": [
        {
          "output_type": "display_data",
          "data": {
            "text/plain": [
              "<Figure size 600x400 with 2 Axes>"
            ],
            "image/png": "[encoded data removed]"
          },
          "metadata": {}
        }
      ],
      "source": [
        "import matplotlib.pyplot as plt\n",
        "import seaborn as sns\n",
        "from sklearn.metrics import confusion_matrix\n",
        "\n",
        "# Create confusion matrix\n",
        "cm = confusion_matrix(y_true, y_pred, labels=[\"NEGATIVE\", \"POSITIVE\"])\n",
        "labels = [\"NEGATIVE\", \"POSITIVE\"]\n",
        "\n",
        "# Plot\n",
        "plt.figure(figsize=(6, 4))\n",
        "sns.heatmap(cm, annot=True, fmt='d', cmap='Blues', xticklabels=labels, yticklabels=labels)\n",
        "\n",
        "plt.xlabel('Predicted')\n",
        "plt.ylabel('Actual')\n",
        "plt.title('Confusion Matrix')\n",
        "plt.show()\n"
      ]
    },
    {
      "cell_type": "markdown",
      "id": "qbbyWquJSSE5",
      "metadata": {
        "id": "qbbyWquJSSE5"
      },
      "source": [
        "# Labeling clusters"
      ]
    },
    {
      "cell_type": "code",
      "execution_count": 15,
      "id": "7vSc-53BSR0w",
      "metadata": {
        "id": "7vSc-53BSR0w"
      },
      "outputs": [],
      "source": [
        "# Make the data consistent for vectorization\n",
        "df = df.with_columns([\n",
        "    pl.col(\"category\")\n",
        "      .cast(pl.Utf8)\n",
        "      .str.to_lowercase() #convert to lower case\n",
        "      .str.replace_all(r\"[^a-z\\s]\", \"\")  # remove non-letters\n",
        "      .alias(\"category\")\n",
        "])\n",
        "\n",
        "# Preparing data for embedding\n",
        "df = df.with_columns([\n",
        "    (pl.col('category') + ' ' + pl.col('product_title')).alias('combined_category')\n",
        "])\n"
      ]
    },
    {
      "cell_type": "markdown",
      "id": "PWr3CCiLNO4x",
      "metadata": {
        "id": "PWr3CCiLNO4x"
      },
      "source": [
        "# Embeddings - Group reviews into meta-categories"
      ]
    },
    {
      "cell_type": "code",
      "execution_count": 16,
      "id": "AXimPaGE2ICD",
      "metadata": {
        "colab": {
          "base_uri": "https://localhost:8080/",
          "height": 49,
          "referenced_widgets": [
            "a60a2b86645049a2865a577bbed9b693",
            "3d5e9d6cdeb14313a685dc822a87084b",
            "83915118d86b4a62815876c72f6445be",
            "acfc09cd891a446dbf5f8da1603ee85a",
            "575b62fd72e5472eab8af629852a85b3",
            "f3018931909a4c72906fe50d37379684",
            "144d67e969994fdd8a4476976b413b63",
            "cf525cbf65a74335af3c5c685a952f7a",
            "cba855978cb64c49bf4f686c51bb265e",
            "1caa08ebff30418aa5bc4b542deba34b",
            "d8737eff8b8a495c97a7c4fc6938975f"
          ]
        },
        "id": "AXimPaGE2ICD",
        "outputId": "41199a3b-9ca5-445c-b233-4b1cdd99e189"
      },
      "outputs": [
        {
          "output_type": "display_data",
          "data": {
            "text/plain": [
              "Batches:   0%|          | 0/32 [00:00<?, ?it/s]"
            ],
            "application/vnd.jupyter.widget-view+json": {
              "version_major": 2,
              "version_minor": 0,
              "model_id": "a60a2b86645049a2865a577bbed9b693"
            }
          },
          "metadata": {}
        }
      ],
      "source": [
        "from sentence_transformers import SentenceTransformer\n",
        "from sklearn.cluster import KMeans\n",
        "\n",
        "# Embedding: Loads a pretrained model to turns text into numerical vectors\n",
        "model = SentenceTransformer('all-MiniLM-L6-v2')\n",
        "texts = df.select(\"combined_category\").to_series().to_list()\n",
        "\n",
        "embeddings = model.encode(texts, show_progress_bar=True)\n",
        "\n",
        "# Group\n",
        "kmeans = KMeans(n_clusters=5, random_state=42, n_init=10)\n",
        "labels = kmeans.fit_predict(embeddings)\n",
        "\n",
        "\n",
        "df = df.with_columns([\n",
        "    pl.Series(name=\"meta_cluster\", values=labels)\n",
        "])"
      ]
    },
    {
      "cell_type": "markdown",
      "id": "24a73M8SS1ko",
      "metadata": {
        "id": "24a73M8SS1ko"
      },
      "source": [
        "# Inspect items per cluster to pick some and be able to proceed"
      ]
    },
    {
      "cell_type": "code",
      "execution_count": 25,
      "id": "A2Ml0d5_S4nj",
      "metadata": {
        "colab": {
          "base_uri": "https://localhost:8080/"
        },
        "id": "A2Ml0d5_S4nj",
        "outputId": "bd96b797-7994-4001-9dc1-a6a9fb49361f"
      },
      "outputs": [
        {
          "output_type": "stream",
          "name": "stdout",
          "text": [
            "\n",
            "Cluster 0:\n",
            " - amazon fashion Beautiful but not uniform sizing\n",
            " - amazon fashion Runs Small\n",
            " - amazon fashion not skin tight\n",
            " - amazon fashion Extremely oversized, meh overall look\n",
            " - amazon fashion Good product, wish it was a little bit bigger\n",
            "\n",
            "Cluster 1:\n",
            " - amazon fashion Perfect hiking shoe\n",
            " - amazon fashion Great running shoes\n",
            " - amazon fashion Great dress shoe.\n",
            " - amazon fashion great boots!\n",
            " - amazon fashion These are some delightful socks\n",
            "\n",
            "Cluster 2:\n",
            " - amazon fashion LOVE THEM!\n",
            " - amazon fashion Poor quality\n",
            " - amazon fashion Gift\n",
            " - amazon fashion Fashionable and practical.\n",
            " - amazon fashion What an indulgence!\n",
            "\n",
            "Cluster 3:\n",
            " - amazon fashion Cute and nicely fit summer night gown\n",
            " - amazon fashion Great shorts, great comfort\n",
            " - amazon fashion This is a great come a warm casual sweater that you could wear ...\n",
            " - amazon fashion Warmth and comfort is a must to enjoy the snow!\n",
            " - amazon fashion Probably great for shapewear, but not for off-label back support\n",
            "\n",
            "Cluster 4:\n",
            " - amazon fashion Triangular gaiter with ear hooks; works well as a mask\n",
            " - amazon fashion Elegant leather strap\n",
            " - amazon fashion good replacement band for (some) timex watches\n",
            " - amazon fashion gift idea for the cat lover\n",
            " - amazon fashion Maxi dress\n"
          ]
        }
      ],
      "source": [
        "for i in range(5): # Update range to 2 since n_clusters is now 2\n",
        "    print(f\"\\nCluster {i}:\")\n",
        "    items = (\n",
        "        df.filter(pl.col(\"meta_cluster\") == i)\n",
        "          .select(\"combined_category\")\n",
        "          .unique()\n",
        "          .head(5)\n",
        "          .to_series()\n",
        "          .to_list()\n",
        "    )\n",
        "    for item in items:\n",
        "        print(\" -\", item)"
      ]
    },
    {
      "cell_type": "markdown",
      "id": "O_sQJIvnTCwQ",
      "metadata": {
        "id": "O_sQJIvnTCwQ"
      },
      "source": [
        "#Defining the clusterings"
      ]
    },
    {
      "cell_type": "code",
      "execution_count": 26,
      "id": "kIiMCWq-TF5q",
      "metadata": {
        "id": "kIiMCWq-TF5q"
      },
      "outputs": [],
      "source": [
        "# Cluster labels using one representative sample per cluster\n",
        "cluster_labels = {}\n",
        "\n",
        "for i in range(5):  # Update range to 2\n",
        "    # Get 1 clean sample per cluster\n",
        "    example = (\n",
        "        df.filter(pl.col(\"meta_cluster\") == i)\n",
        "          .select(\"combined_category\")\n",
        "          .unique()\n",
        "          .head(1)\n",
        "          .to_series()\n",
        "          .to_list()\n",
        "    )\n",
        "    if example:\n",
        "        cluster_labels[str(i)] = example[0]  # must cast to str if meta_cluster is str later\n",
        "\n",
        "# Apply cluster labels dynamically\n",
        "df = df.with_columns(\n",
        "    pl.col(\"meta_cluster\").cast(str).replace(cluster_labels).alias(\"cluster_label\")\n",
        ")"
      ]
    },
    {
      "cell_type": "markdown",
      "id": "saKZn-SpO7t_",
      "metadata": {
        "id": "saKZn-SpO7t_"
      },
      "source": [
        "# Plotting Product Distribution"
      ]
    },
    {
      "cell_type": "code",
      "execution_count": 27,
      "id": "46AihtKU3GCA",
      "metadata": {
        "colab": {
          "base_uri": "https://localhost:8080/",
          "height": 506
        },
        "id": "46AihtKU3GCA",
        "outputId": "7ff6f499-f1ee-4413-a5be-31f6bd38d709"
      },
      "outputs": [
        {
          "output_type": "display_data",
          "data": {
            "text/plain": [
              "<Figure size 1000x500 with 1 Axes>"
            ],
            "image/png": "[encoded data removed]"
          },
          "metadata": {}
        }
      ],
      "source": [
        "import seaborn as sns\n",
        "import matplotlib.pyplot as plt\n",
        "\n",
        "# Convert only what's needed to Pandas\n",
        "df_pd = df.select([\"cluster_label\"]).to_pandas()\n",
        "\n",
        "# Plot\n",
        "plt.figure(figsize=(10, 5))\n",
        "sns.countplot(data=df_pd, x='cluster_label')\n",
        "plt.title('Product Distribution by Fashion Subcategories')\n",
        "plt.xlabel('Fashion Subcategory')\n",
        "plt.ylabel('Number of Products')\n",
        "plt.xticks(rotation=45)\n",
        "plt.tight_layout()\n",
        "plt.show()\n"
      ]
    },
    {
      "cell_type": "markdown",
      "id": "QQrISkjlCXR9",
      "metadata": {
        "id": "QQrISkjlCXR9"
      },
      "source": [
        "# Summarization"
      ]
    },
    {
      "cell_type": "code",
      "execution_count": 28,
      "id": "BWd71e3ACM2c",
      "metadata": {
        "colab": {
          "base_uri": "https://localhost:8080/"
        },
        "id": "BWd71e3ACM2c",
        "outputId": "7a8d3c98-c74f-4a31-b2e1-2cd63ed2fb28"
      },
      "outputs": [
        {
          "output_type": "stream",
          "name": "stderr",
          "text": [
            "Device set to use cuda:0\n"
          ]
        },
        {
          "output_type": "stream",
          "name": "stdout",
          "text": [
            "Original: This is a trifold wallet that is a bit bulky by design. It is still a very nice product. It has room for 12 credit cards. It is a bit much.\n",
            "Summary: This is a trifold wallet that is a bit bulky by design. It has room for 12 credit\n"
          ]
        }
      ],
      "source": [
        "\n",
        "# Load summarization pipeline\n",
        "summarizer = pipeline(\"summarization\", model=\"facebook/bart-large-cnn\", device=0 if torch.cuda.is_available() else -1)\n",
        "\n",
        "def summarize_text(text, max_length=130, min_length=30):\n",
        "    try:\n",
        "        input_length = len(text.split())\n",
        "        # Dynamically adjust max_length\n",
        "        if input_length < min_length:\n",
        "            return text  # Too short to summarize\n",
        "        elif input_length < max_length:\n",
        "            max_length = int(input_length * 0.8)\n",
        "            min_length = int(max_length * 0.5)\n",
        "\n",
        "        summary = summarizer(text[:1024], max_length=max_length, min_length=min_length, do_sample=False)\n",
        "        return summary[0]['summary_text']\n",
        "    except Exception as e:\n",
        "        return f\"Error: {str(e)}\"\n",
        "\n",
        "# Example usage\n",
        "sample_review = df['reviewText'][0]\n",
        "print(\"Original:\", sample_review)\n",
        "print(\"Summary:\", summarize_text(sample_review))\n"
      ]
    },
    {
      "cell_type": "code",
      "execution_count": 29,
      "id": "G9wagZYvK1Gt",
      "metadata": {
        "id": "G9wagZYvK1Gt"
      },
      "outputs": [],
      "source": [
        "\n",
        "# Make summary of reviews\n",
        "def summarize_individual_reviews(df, count=5):\n",
        "    df_positive = df.filter(pl.col(\"sentiment\") == \"POSITIVE\").head(count)\n",
        "    df_negative = df.filter(pl.col(\"sentiment\") == \"NEGATIVE\").head(count)\n",
        "\n",
        "    positive_summaries = [\n",
        "        summarize_text(text) for text in df_positive[\"reviewText\"].to_list()\n",
        "    ]\n",
        "\n",
        "    negative_summaries = [\n",
        "        summarize_text(text) for text in df_negative[\"reviewText\"].to_list()\n",
        "    ]\n",
        "\n",
        "    return {\n",
        "        \"positive_reviews\": positive_summaries,\n",
        "        \"negative_reviews\": negative_summaries\n",
        "    }\n",
        "\n",
        "\n",
        "summaries = summarize_individual_reviews(df, count=5)\n",
        "\n",
        "total_positive_reviews = \"\"\n",
        "total_negative_reviews = \"\"\n",
        "\n",
        "\n",
        "for i, summary in enumerate(summaries[\"positive_reviews\"]):\n",
        "    total_positive_reviews += summary\n",
        "\n",
        "\n",
        "\n",
        "for i, summary in enumerate(summaries[\"negative_reviews\"]):\n",
        "    total_negative_reviews += summary\n"
      ]
    },
    {
      "cell_type": "markdown",
      "id": "XPKxRvHiCZ9d",
      "metadata": {
        "id": "XPKxRvHiCZ9d"
      },
      "source": [
        "# GPT to consolidate reviews\n",
        "\n"
      ]
    },
    {
      "cell_type": "code",
      "execution_count": 30,
      "id": "4ALhUdoHChXY",
      "metadata": {
        "id": "4ALhUdoHChXY"
      },
      "outputs": [],
      "source": [
        "import openai\n",
        "\n",
        "# Step 1: Create OpenAI client (new SDK)\n",
        "client = openai.OpenAI(api_key=\"sk-proj-\")\n",
        "\n",
        "# Step 2: GPT summarization function\n",
        "def summarize_with_gpt(text, prompt_prefix, model=\"gpt-3.5-turbo\"):\n",
        "    response = client.chat.completions.create(\n",
        "        model=model,\n",
        "        messages=[\n",
        "            {\"role\": \"system\", \"content\": \"You are a helpful assistant that summarizes customer reviews.\"},\n",
        "            {\"role\": \"user\", \"content\": prompt_prefix + \"\\n\\nReviews:\\n\" + text}\n",
        "        ],\n",
        "        temperature=0.5,\n",
        "        max_tokens=300\n",
        "    )\n",
        "    return response.choices[0].message.content\n"
      ]
    },
    {
      "cell_type": "markdown",
      "id": "GXS-OWotiX74",
      "metadata": {
        "id": "GXS-OWotiX74"
      },
      "source": [
        "## Prompts"
      ]
    },
    {
      "cell_type": "code",
      "execution_count": 31,
      "id": "jvVaWe0OCkRE",
      "metadata": {
        "colab": {
          "base_uri": "https://localhost:8080/"
        },
        "id": "jvVaWe0OCkRE",
        "outputId": "faaca4b5-9b49-4652-f678-990c11667a42"
      },
      "outputs": [
        {
          "output_type": "stream",
          "name": "stdout",
          "text": [
            "\n",
            " **** POSITIVE REVIEWS ****\n",
            "Key strengths:\n",
            "1. Great quality and variety of colors available.\n",
            "2. Cute design that appeals to children.\n",
            "3. Comfortable fit and soft material.\n",
            "4. Versatile for wearing during cold weather or under snow pants.\n",
            "5. Impressive appearance in the sun.\n",
            "\n",
            "Suggestions:\n",
            "1. Address the see-through issue in the white dress.\n",
            "2. Consider adding pockets to improve functionality.\n",
            "3. Continue offering a range of colors and designs to attract different customer preferences.\n",
            "4. Maintain the quality and comfort of the products to keep customers satisfied.\n",
            "\n",
            "**** NEGATIVE REVIEWS ****\n",
            "Common problems from the reviews include issues with fit, scratchy material, loose ankle fit, non-stretchy straps, and tight toe ring. To improve customer satisfaction, the store owner should consider providing accurate sizing information, using softer and more comfortable materials, ensuring adjustable ankle closures, incorporating stretchy straps, and offering comfortable toe ring designs. Addressing these issues can help customers feel more satisfied with their purchases and reduce the likelihood of returns.\n"
          ]
        }
      ],
      "source": [
        "positive_prompt = (\n",
        "    \"You are helping a small online store owner understand what customers love about a product. \"\n",
        "    \"Summarize the following POSITIVE reviews into key strengths and suggestions for what the store should keep doing to attract customers.\"\n",
        ")\n",
        "\n",
        "negative_prompt = (\n",
        "    \"You are helping a small online store owner identify common problems from similar products. \"\n",
        "    \"Summarize the following NEGATIVE reviews and suggest what to avoid or improve to make customers happy.\"\n",
        ")\n",
        "\n",
        "\n",
        "print(\"\\n **** POSITIVE REVIEWS ****\")\n",
        "summary = summarize_with_gpt(text=total_positive_reviews, prompt_prefix=positive_prompt)\n",
        "print(summary)\n",
        "\n",
        "\n",
        "print(\"\\n**** NEGATIVE REVIEWS ****\")\n",
        "summary = summarize_with_gpt(text=total_negative_reviews, prompt_prefix=negative_prompt)\n",
        "print(summary)"
      ]
    },
    {
      "cell_type": "markdown",
      "id": "Paz2osrzO9of",
      "metadata": {
        "id": "Paz2osrzO9of"
      },
      "source": [
        "# Summarization Report by Product Category"
      ]
    },
    {
      "cell_type": "code",
      "execution_count": 32,
      "id": "bXINwt--O-ia",
      "metadata": {
        "colab": {
          "base_uri": "https://localhost:8080/"
        },
        "id": "bXINwt--O-ia",
        "outputId": "198c3204-cdce-4673-ecab-1839fd0f93e4"
      },
      "outputs": [
        {
          "output_type": "stream",
          "name": "stdout",
          "text": [
            "\n",
            "--- Summarization Report for Category: amazon fashion Husband likes this, Runs Big, pocket had two holes! ---\n",
            "\n",
            "Top 3 Products (by review count):\n",
            "- ASIN: B07T3L6Q8M, Title: Gorgeous pendant, ugly chain.\n",
            "- ASIN: B08ZCHF5LV, Title: Mostly great rings with fun designs\n",
            "- ASIN: B07D8ZFRJC, Title: Gorgeous Glasses with Lots of Detail\n",
            "- ASIN: B08ZCHF5LV, Title: Got these for the girl\n",
            "- ASIN: B07D8ZFRJC, Title: Wooden Sunglasses\n",
            "- ASIN: B07T3L6Q8M, Title: For when ersatz diamonds works\n",
            "\n",
            "Key Strengths (based on positive reviews):\n",
            "Key Strengths:\n",
            "1. Affordable pricing and fast delivery.\n",
            "2. Versatile products that can be dressed up or down.\n",
            "3. Quality products that are durable and functional.\n",
            "4. Stylish and trendy designs that appeal to a wide range of customers.\n",
            "5. Useful and practical features that cater to specific needs, such as ease of use for individuals in nursing homes.\n",
            "6. Unique and attractive designs that make great gifts for various occasions.\n",
            "7. Comfortable and well-made products that receive compliments and positive feedback.\n",
            "8. Thoughtful details like waterproofing, secure closures, and comfortable straps.\n",
            "\n",
            "Suggestions:\n",
            "1. Continue offering a range of products that are both fashionable and functional.\n",
            "2. Maintain the quality and durability of products to ensure customer satisfaction.\n",
            "3. Consider expanding the product range to include more versatile and stylish options.\n",
            "4. Keep pricing reasonable to attract more customers.\n",
            "5. Focus on customer needs and preferences to provide practical solutions.\n",
            "6. Incorporate unique and thoughtful details that set products apart from competitors.\n",
            "7. Ensure products are comfortable and well-designed for everyday use.\n",
            "8. Provide clear sizing information and options for different body types to accommodate diverse customers.\n",
            "\n",
            "Common Problems / Areas for Improvement (based on negative reviews):\n",
            "Common problems identified in the reviews include:\n",
            "\n",
            "1. Items arriving broken or damaged.\n",
            "2. Poor quality materials, such as plastic or cheap construction.\n",
            "3. Inaccurate product descriptions leading to disappointment.\n",
            "4. Lack of durability, such as clasps breaking easily or elastic straps snapping.\n",
            "5. Sizing issues, with products being too small despite the stated size.\n",
            "6. Lack of important features, like arch support in shoes.\n",
            "7. Misleading or inaccurate descriptions of products.\n",
            "\n",
            "To make customers happy and address these issues, the online store owner should consider the following improvements:\n",
            "\n",
            "1. Ensure products are well-packaged to prevent damage during shipping.\n",
            "2. Use higher quality materials to improve the overall durability and appearance of products.\n",
            "3. Provide accurate and detailed product descriptions to manage customer expectations.\n",
            "4. Enhance product durability by using stronger components like clasps and straps.\n",
            "5. Double-check sizing accuracy and consider offering size charts for reference.\n",
            "6. Clearly state important features of products, such as arch support in shoes.\n",
            "7. Avoid misleading customers with inaccurate descriptions or claims about products.\n",
            "\n",
            "Could not identify a 'worst' product in this category (fewer than 5 reviews per product).\n",
            "\n",
            "(Key differences can be inferred by comparing the positive/negative summaries and product details above)\n",
            "\n",
            "--- Summarization Report for Category: amazon fashion Nice hiking shoe ---\n",
            "\n",
            "Top 3 Products (by review count):\n",
            "- ASIN: B07RGM3DYC, Title: Good hiking shoes until got bent\n",
            "- ASIN: B07RGM3DYC, Title: Best hiking boots\n",
            "- ASIN: B07RGM3DYC, Title: These are your boots!!\n",
            "- ASIN: B07RGM3DYC, Title: Excellent boots\n",
            "- ASIN: B07RGM3DYC, Title: Perfect hiking shoe\n",
            "- ASIN: B07RGM3DYC, Title: Great for narrow and flat feet\n",
            "- ASIN: B07RGM3DYC, Title: Great hiking shoes\n",
            "- ASIN: B07RGM3DYC, Title: great boots!\n",
            "- ASIN: B07RGM3DYC, Title: Best hiking boot!\n",
            "- ASIN: B07RGM3DYC, Title: Nice hiking shoe\n",
            "- ASIN: B07TWRSM8H, Title: Great fit, thinner than athletic old school socks\n",
            "- ASIN: B0BQCSN92X, Title: scratchy and a bit wide. Sole is nice.\n",
            "- ASIN: B07TWRSM8H, Title: lightweight socks, no cushioning, skin tight with minimal support\n",
            "- ASIN: B07RGM3DYC, Title: Fits comfortably, even for wide feet!\n",
            "\n",
            "Key Strengths (based on positive reviews):\n",
            "Key Strengths:\n",
            "- Comfort: Many customers appreciate the comfort of the products, mentioning soft materials, good arch support, and overall comfort for all-day wear.\n",
            "- Durability: Customers highlight the durability of the products, mentioning that they are well-made and can withstand different activities like hiking and gardening.\n",
            "- Style and Design: The products are praised for their stylish designs, vibrant colors, and versatility to match different outfits and occasions.\n",
            "- Fit and Sizing: Customers appreciate that the products fit true to size and accommodate both wide and narrow feet.\n",
            "\n",
            "Suggestions:\n",
            "- Continue to prioritize comfort and quality materials in product design to attract customers looking for long-lasting and comfortable footwear.\n",
            "- Maintain a focus on durability and versatility to appeal to customers seeking products that can withstand various activities.\n",
            "- Keep offering stylish designs with vibrant colors that can be easily matched with different outfits.\n",
            "- Ensure consistent sizing and fit across different products to meet the needs of a diverse customer base.\n",
            "\n",
            "Common Problems / Areas for Improvement (based on negative reviews):\n",
            "Common problems identified from the negative reviews include:\n",
            "\n",
            "1. Lack of stretch in straps causing tripping hazard for children.\n",
            "2. Rubber top sole causing excessive heat and discomfort.\n",
            "3. Poor insole quality and lack of support in the shoes.\n",
            "4. Misleading appearance of built-up heel when the shoe is actually flat inside.\n",
            "5. Socks with thin material, frayed edges, and lack of cushioning.\n",
            "6. Shoes with sizing issues and uncomfortable air cushions.\n",
            "7. Difficulty in putting on shoes due to misplaced toe strap.\n",
            "8. Slippery plastic sole causing accidents in wet conditions.\n",
            "\n",
            "To improve customer satisfaction, the online store owner should consider the following:\n",
            "\n",
            "1. Ensure straps on children's shoes are stretchy and secure to prevent tripping.\n",
            "2. Use materials that provide breathability and comfort to prevent overheating.\n",
            "3. Improve insole quality and provide adequate support for all-day comfort.\n",
            "4. Ensure the design accurately reflects the shoe's actual structure to avoid misleading customers.\n",
            "5. Offer socks with better cushioning and quality construction for active use.\n",
            "6. Ensure accurate sizing and comfort features in shoes, such as proper cushioning and support.\n",
            "7. Check the placement of straps and other design elements to ensure ease of use and comfort.\n",
            "8. Use slip-resistant materials for outsoles to prevent accidents in slippery conditions.\n",
            "\n",
            "Potential 'Worst' Product (Lowest Avg Rating >=5 reviews):\n",
            "- ASIN: B07RGM3DYC, Title: Great for narrow and flat feet, Avg Rating: 4.55, Review Count: 11\n",
            "\n",
            "No negative reviews found for this product with sufficient review count.\n",
            "\n",
            "(Key differences can be inferred by comparing the positive/negative summaries and product details above)\n",
            "\n",
            "--- Summarization Report for Category: amazon fashion Got this for my daughter's school program.  Beautiful! ---\n",
            "\n",
            "Top 3 Products (by review count):\n",
            "- ASIN: B07F9SVTMT, Title: Very soft, comfortable, and attractive on  - I love this shirt!\n",
            "- ASIN: B003YBQ2E0, Title: Wow--a comfortable, super-stylish Croc!\n",
            "- ASIN: B07RGM3DYC, Title: So comfortable!\n",
            "- ASIN: B003YBQ2E0, Title: definitely comfy\n",
            "- ASIN: B07RGM3DYC, Title: Comfortable right out of the box\n",
            "- ASIN: B07F9SVTMT, Title: Good looking shirt\n",
            "- ASIN: B07RGM3DYC, Title: These are canvas hikers!\n",
            "- ASIN: B07RGM3DYC, Title: Really love this pair!\n",
            "- ASIN: B07RGM3DYC, Title: Very comfortable\n",
            "- ASIN: B07RGM3DYC, Title: That canvas toe shredded in a day.\n",
            "\n",
            "Key Strengths (based on positive reviews):\n",
            "Key Strengths:\n",
            "1. Customers appreciate the comfortable and soft fabric used in the products.\n",
            "2. The products are well-made and offer good fit and comfort.\n",
            "3. Customers like the versatility of the products, such as the ability to operate front and back panels independently or use items in various ways.\n",
            "4. The products are affordable compared to other brands but still offer high quality.\n",
            "5. The products receive positive feedback for their functionality, such as quick drying swimsuits or breathable workout shirts.\n",
            "6. Customers value the stylish designs and color options available.\n",
            "7. The products receive praise for features like comfort, fit, and durability.\n",
            "\n",
            "Suggestions:\n",
            "1. Provide clear sizing information to help customers choose the right size.\n",
            "2. Consider offering more guidance on how to wear or use the products, either on the sales page or included in the packaging.\n",
            "3. Address any issues with fit, such as recommending sizing down for a more fitted look or improving the fit of certain items like puffy shorts.\n",
            "4. Consider offering a wider range of color options to cater to different preferences.\n",
            "5. Continue to focus on using high-quality materials and ensuring well-made products to maintain customer satisfaction.\n",
            "\n",
            "Common Problems / Areas for Improvement (based on negative reviews):\n",
            "Common issues from the negative reviews are:\n",
            "1. Ethical concerns about the sourcing of materials (e.g., kangaroo leather).\n",
            "2. Lack of comfort and durability in footwear products.\n",
            "3. Misleading product descriptions regarding material composition.\n",
            "4. Inadequate protection from cold weather in clothing items.\n",
            "5. Incorrect fiber content information in clothing products.\n",
            "\n",
            "To make customers happy, the small online store owner should:\n",
            "1. Ensure transparency in material sourcing and consider ethical alternatives.\n",
            "2. Focus on improving comfort and durability in footwear products.\n",
            "3. Provide accurate and clear product descriptions, especially regarding material composition.\n",
            "4. Enhance the functionality of clothing items by ensuring they provide the expected level of protection.\n",
            "5. Ensure that product information, such as fiber content, is accurate and matches the actual product received.\n",
            "\n",
            "Potential 'Worst' Product (Lowest Avg Rating >=5 reviews):\n",
            "- ASIN: B07RGM3DYC, Title: These are canvas hikers!, Avg Rating: 4.50, Review Count: 6\n",
            "\n",
            "No negative reviews found for this product with sufficient review count.\n",
            "\n",
            "(Key differences can be inferred by comparing the positive/negative summaries and product details above)\n",
            "\n",
            "--- Summarization Report for Category: amazon fashion Fits good but WAY to short for a 5'8\" girl ---\n",
            "\n",
            "Top 3 Products (by review count):\n",
            "- ASIN: B07YDQYYGC, Title: Some issues of comfort and fit\n",
            "- ASIN: B07CZDX9S7, Title: runs a little small on the hip, even for athletic fit\n",
            "- ASIN: B07YDQYYGC, Title: Very wide/loose top\n",
            "- ASIN: B01B8DJQ6G, Title: Way too wide!\n",
            "\n",
            "Key Strengths (based on positive reviews):\n",
            "Key strengths:\n",
            "1. Variety of sizes: Customers appreciate the range of sizes available, accommodating different body types.\n",
            "2. Comfort: Many customers mention the comfort of the products, such as arch support in shoes and comfortable materials in clothing items.\n",
            "3. Quality materials: Customers like the use of quality materials like suede, memory foam, and sturdy zippers.\n",
            "4. Functional design: Products like masks and hats are praised for their practical features like removable filters and a well-designed brim.\n",
            "5. Customer service: Customers value the ability to exchange items for a better fit, showing good customer service.\n",
            "\n",
            "Suggestions:\n",
            "1. Sizing consistency: Ensure sizing is consistent across products to avoid confusion and the need for returns.\n",
            "2. Consider body shapes: Some customers mention tightness in the bust area, so offering more options for different body shapes could attract more customers.\n",
            "3. Fabric considerations: Customers note preferences for more forgiving fabrics, so offering more stretch or forgiving materials could improve satisfaction.\n",
            "4. Product descriptions: Clarify product details, such as the intended fit or any specific features, to manage customer expectations better and reduce returns.\n",
            "5. Comfort and functionality: Continue to prioritize comfort and practical features in product design to maintain customer satisfaction.\n",
            "\n",
            "Common Problems / Areas for Improvement (based on negative reviews):\n",
            "Common problems highlighted in the negative reviews include items being way too small or tight, inconsistent sizing, poor fit, and misleading product descriptions. To improve customer satisfaction, the online store owner should take the following actions:\n",
            "\n",
            "1. Ensure accurate sizing: Provide detailed size charts and measurements to help customers choose the right size.\n",
            "\n",
            "2. Improve product descriptions: Make sure that product descriptions and images accurately represent the item, including fit and design details.\n",
            "\n",
            "3. Offer easy returns and exchanges: Provide a hassle-free return process, including free returns or exchanges, to encourage customers to shop with confidence.\n",
            "\n",
            "4. Address fit issues: Pay attention to the fit of items, including width and length, to cater to a variety of body types and preferences.\n",
            "\n",
            "5. Quality control: Ensure that products are well-made and comfortable to wear, avoiding cheap materials or uncomfortable features.\n",
            "\n",
            "By addressing these issues, the online store can enhance customer satisfaction and loyalty, leading to positive reviews and repeat business.\n",
            "\n",
            "Could not identify a 'worst' product in this category (fewer than 5 reviews per product).\n",
            "\n",
            "(Key differences can be inferred by comparing the positive/negative summaries and product details above)\n",
            "\n",
            "--- Summarization Report for Category: amazon fashion Beautiful!! ---\n",
            "\n",
            "Top 3 Products (by review count):\n",
            "- ASIN: B07P955KQY, Title: Thin\n",
            "- ASIN: B07RGM3DYC, Title: Dependable!\n",
            "- ASIN: B07RGM3DYC, Title: Comfort\n",
            "- ASIN: B07WSSYSTV, Title: cute, a little thin, 3.5 stars\n",
            "- ASIN: B07P955KQY, Title: multi purpose\n",
            "- ASIN: B07RGM3DYC, Title: Good value\n",
            "- ASIN: B07WSSYSTV, Title: Fine\n",
            "- ASIN: B07RGM3DYC, Title: Worth the $$\n",
            "- ASIN: B07RGM3DYC, Title: Love it\n",
            "- ASIN: B07RGM3DYC, Title: quick delivery\n",
            "- ASIN: B07RGM3DYC, Title: Perfect all around !\n",
            "- ASIN: B07P955KQY, Title: Works well with fine hair!\n",
            "- ASIN: B07RGM3DYC, Title: Survived the mud and 9 mile hike up the mountains\n",
            "\n",
            "Key Strengths (based on positive reviews):\n",
            "Key Strengths:\n",
            "1. Products are made of quality materials and are comfortable to wear.\n",
            "2. Items are versatile and suitable for various activities and climates.\n",
            "3. Customers appreciate the durability and functionality of the products.\n",
            "4. The products are stylish and trendy.\n",
            "5. Customers love the practicality and convenience of the items, such as the bag being able to hold essentials for different activities.\n",
            "6. Positive feedback on fit and comfort levels of clothing and shoes.\n",
            "7. Customers appreciate the vibrant colors and classy designs of the products.\n",
            "\n",
            "Suggestions:\n",
            "1. Continue to focus on using quality materials and ensuring comfort in the products.\n",
            "2. Maintain the versatility of the items to cater to different needs and preferences.\n",
            "3. Emphasize the durability and functionality of the products in marketing.\n",
            "4. Stay updated with current trends and styles to attract fashion-conscious customers.\n",
            "5. Consider expanding the range of practical and convenient items that cater to various activities.\n",
            "6. Ensure consistent sizing and comfort across different products.\n",
            "7. Keep offering vibrant colors and classy designs to appeal to customers.\n",
            "\n",
            "Common Problems / Areas for Improvement (based on negative reviews):\n",
            "Common problems identified in the negative reviews include:\n",
            "\n",
            "1. Low quality and fake appearance\n",
            "2. Squeaking shoes\n",
            "3. Poor quality with holes in seams\n",
            "4. Misleading color description\n",
            "5. Sizing issues\n",
            "6. Stopwatch functionality issues\n",
            "7. Uncomfortable boots\n",
            "8. Uncomfortable clothing items\n",
            "9. Lack of product information\n",
            "10. Poor craftsmanship leading to falling apart\n",
            "11. Thin and easily damaged material\n",
            "12. Incorrect sizing for bras\n",
            "13. Small and hard-to-see stones on jewelry\n",
            "14. Inaccurate product images\n",
            "15. Unsupportive bralette\n",
            "16. Padding taking up room in shoes\n",
            "\n",
            "To improve customer satisfaction, the store owner should focus on:\n",
            "- Ensuring high quality and authentic products\n",
            "- Addressing squeaking and sizing issues in shoes\n",
            "- Checking for holes in seams and improving quality control\n",
            "- Providing accurate color descriptions and sizing information\n",
            "- Offering comfortable and well-fitting footwear\n",
            "- Ensuring functional and user-friendly features, such as stopwatches\n",
            "- Improving comfort and fit in clothing items\n",
            "- Providing detailed product information, including care instructions and meanings of stones\n",
            "- Ensuring durable craftsmanship and materials\n",
            "- Offering products with appropriate padding and support\n",
            "- Ensuring accurate sizing for bras and other clothing items\n",
            "- Using visible and well-sized stones in jewelry\n",
            "- Providing accurate product images and descriptions\n",
            "\n",
            "By addressing these common issues, the store owner can enhance customer satisfaction and loyalty.\n",
            "\n",
            "Potential 'Worst' Product (Lowest Avg Rating >=5 reviews):\n",
            "- ASIN: B07RGM3DYC, Title: Love it, Avg Rating: 4.88, Review Count: 8\n",
            "\n",
            "No negative reviews found for this product with sufficient review count.\n",
            "\n",
            "(Key differences can be inferred by comparing the positive/negative summaries and product details above)\n"
          ]
        }
      ],
      "source": [
        "# Get unique cluster labels\n",
        "unique_clusters = df[\"cluster_label\"].unique().to_list()\n",
        "\n",
        "# Iterate through each cluster label and generate a summary report\n",
        "for cluster in unique_clusters:\n",
        "    print(f\"\\n--- Summarization Report for Category: {cluster} ---\")\n",
        "\n",
        "    # Filter DataFrame for the current cluster\n",
        "    df_cluster = df.filter(pl.col(\"cluster_label\") == cluster)\n",
        "\n",
        "    if df_cluster.height == 0:\n",
        "        print(\"No data found for this category.\")\n",
        "        continue\n",
        "\n",
        "    # --- Identify Top 5 Products ---\n",
        "    # Count product occurrences and get top 5 ASINs\n",
        "    top_products_asin = (\n",
        "        df_cluster\n",
        "        .group_by(\"asin\")\n",
        "        .len() # Changed from .count() to .len()\n",
        "        .sort(\"len\", descending=True)\n",
        "        .head(3)\n",
        "        .select(\"asin\")\n",
        "        .to_series()\n",
        "        .to_list()\n",
        "    )\n",
        "\n",
        "    if not top_products_asin:\n",
        "        print(\"No products found in this category.\")\n",
        "        top_product_details = \"N/A\"\n",
        "    else:\n",
        "        # Get the titles of the top products\n",
        "        top_product_details = (\n",
        "            df_cluster\n",
        "            .filter(pl.col(\"asin\").is_in(top_products_asin))\n",
        "            .select([\"asin\", \"product_title\"])\n",
        "            .unique()\n",
        "            .to_dicts()\n",
        "        )\n",
        "        print(\"\\nTop 5 Products (by review count):\")\n",
        "        for prod in top_product_details:\n",
        "            print(f\"- ASIN: {prod['asin']}, Title: {prod['product_title']}\")\n",
        "\n",
        "\n",
        "    # --- Summarize Positive Reviews for the Cluster ---\n",
        "    total_positive_reviews_cluster = \"\"\n",
        "    df_positive_cluster = df_cluster.filter(pl.col(\"sentiment\") == \"POSITIVE\")\n",
        "    if df_positive_cluster.height > 0:\n",
        "         # Take a sample of positive reviews for summarization (e.g., up to 20)\n",
        "        sample_size = min(20, df_positive_cluster.height)\n",
        "        positive_sample = df_positive_cluster.sample(n=sample_size, seed=42)[\"reviewText\"].to_list()\n",
        "        for review in positive_sample:\n",
        "            summary = summarize_text(review)\n",
        "            total_positive_reviews_cluster += summary + \"\\n\\n\"\n",
        "\n",
        "    if total_positive_reviews_cluster:\n",
        "        print(\"\\nKey Strengths (based on positive reviews):\")\n",
        "        summary = summarize_with_gpt(text=total_positive_reviews_cluster, prompt_prefix=positive_prompt)\n",
        "        print(summary)\n",
        "    else:\n",
        "        print(\"\\nNo significant positive reviews to summarize.\")\n",
        "\n",
        "\n",
        "    # --- Summarize Negative Reviews for the Cluster ---\n",
        "    total_negative_reviews_cluster = \"\"\n",
        "    df_negative_cluster = df_cluster.filter(pl.col(\"sentiment\") == \"NEGATIVE\")\n",
        "    if df_negative_cluster.height > 0:\n",
        "         # Take a sample of negative reviews for summarization (e.g., up to 20)\n",
        "        sample_size = min(20, df_negative_cluster.height)\n",
        "        negative_sample = df_negative_cluster.sample(n=sample_size, seed=42)[\"reviewText\"].to_list()\n",
        "        for review in negative_sample:\n",
        "            summary = summarize_text(review)\n",
        "            total_negative_reviews_cluster += summary + \"\\n\\n\"\n",
        "\n",
        "    if total_negative_reviews_cluster:\n",
        "        print(\"\\nCommon Problems / Areas for Improvement (based on negative reviews):\")\n",
        "        summary = summarize_with_gpt(text=total_negative_reviews_cluster, prompt_prefix=negative_prompt)\n",
        "        print(summary)\n",
        "    else:\n",
        "        print(\"\\nNo significant negative reviews to summarize.\")\n",
        "\n",
        "    # --- Identify Worst Product and Why ---\n",
        "    # Define \"worst\" as the product with the lowest average rating and at least a certain number of reviews (e.g., 5)\n",
        "    product_ratings = (\n",
        "        df_cluster\n",
        "        .group_by(\"asin\")\n",
        "        .agg([\n",
        "            pl.col(\"stars\").mean().alias(\"average_rating\"),\n",
        "            pl.col(\"asin\").len().alias(\"review_count\") # Changed from .count() to .len()\n",
        "        ])\n",
        "        .filter(pl.col(\"review_count\") >= 5) # Minimum reviews threshold\n",
        "        .sort(\"average_rating\", descending=False)\n",
        "        .head(1)\n",
        "    )\n",
        "\n",
        "    if product_ratings.height > 0:\n",
        "        worst_product_asin = product_ratings[\"asin\"][0]\n",
        "        worst_product_rating = product_ratings[\"average_rating\"][0]\n",
        "        worst_product_count = product_ratings[\"review_count\"][0]\n",
        "\n",
        "        worst_product_title_row = df_cluster.filter(pl.col(\"asin\") == worst_product_asin).select(\"product_title\").head(1)\n",
        "        worst_product_title = worst_product_title_row[\"product_title\"][0] if worst_product_title_row.height > 0 else \"Unknown Title\"\n",
        "\n",
        "        print(f\"\\nPotential 'Worst' Product (Lowest Avg Rating >={5} reviews):\")\n",
        "        print(f\"- ASIN: {worst_product_asin}, Title: {worst_product_title}, Avg Rating: {worst_product_rating:.2f}, Review Count: {worst_product_count}\")\n",
        "\n",
        "        # Summarize negative reviews specifically for this \"worst\" product\n",
        "        df_worst_product_negative_reviews = df_cluster.filter(\n",
        "            (pl.col(\"asin\") == worst_product_asin) & (pl.col(\"sentiment\") == \"NEGATIVE\")\n",
        "        )\n",
        "\n",
        "        if df_worst_product_negative_reviews.height > 0:\n",
        "            total_worst_negative_reviews = \"\"\n",
        "             # Take a sample of negative reviews (e.g., up to 15)\n",
        "            sample_size_worst = min(15, df_worst_product_negative_reviews.height)\n",
        "            worst_negative_sample = df_worst_product_negative_reviews.sample(n=sample_size_worst, seed=42)[\"reviewText\"].to_list()\n",
        "\n",
        "            for review in worst_negative_sample:\n",
        "                 summary = summarize_text(review)\n",
        "                 total_worst_negative_reviews += summary + \"\\n\\n\"\n",
        "\n",
        "            if total_worst_negative_reviews:\n",
        "                print(f\"\\nWhy it might be the 'worst' (based on negative reviews for {worst_product_title}):\")\n",
        "                summary = summarize_with_gpt(text=total_worst_negative_reviews, prompt_prefix=negative_prompt)\n",
        "                print(summary)\n",
        "            else:\n",
        "                 print(\"\\nNo significant negative reviews specifically for this product to explain why it's 'worst'.\")\n",
        "        else:\n",
        "            print(\"\\nNo negative reviews found for this product with sufficient review count.\")\n",
        "\n",
        "    else:\n",
        "        print(f\"\\nCould not identify a 'worst' product in this category (fewer than {5} reviews per product).\")\n",
        "\n",
        "    # --- Key Differences (Implicit from positive/negative summaries and product details) ---\n",
        "    # The key differences are explained implicitly by comparing the positive summaries,\n",
        "    # negative summaries, and identifying top/worst products.\n",
        "    print(\"\\n(Key differences can be inferred by comparing the positive/negative summaries and product details above)\")"
      ]
    }
  ],
  "metadata": {
    "accelerator": "GPU",
    "colab": {
      "gpuType": "T4",
      "machine_shape": "hm",
      "provenance": []
    },
    "kernelspec": {
      "display_name": "Python 3",
      "name": "python3"
    },
    "language_info": {
      "name": "python"
    },
    "widgets": {
      "application/vnd.jupyter.widget-state+json": {
        "a60a2b86645049a2865a577bbed9b693": {
          "model_module": "@jupyter-widgets/controls",
          "model_name": "HBoxModel",
          "model_module_version": "1.5.0",
          "state": {
            "_dom_classes": [],
            "_model_module": "@jupyter-widgets/controls",
            "_model_module_version": "1.5.0",
            "_model_name": "HBoxModel",
            "_view_count": null,
            "_view_module": "@jupyter-widgets/controls",
            "_view_module_version": "1.5.0",
            "_view_name": "HBoxView",
            "box_style": "",
            "children": [
              "IPY_MODEL_3d5e9d6cdeb14313a685dc822a87084b",
              "IPY_MODEL_83915118d86b4a62815876c72f6445be",
              "IPY_MODEL_acfc09cd891a446dbf5f8da1603ee85a"
            ],
            "layout": "IPY_MODEL_575b62fd72e5472eab8af629852a85b3"
          }
        },
        "3d5e9d6cdeb14313a685dc822a87084b": {
          "model_module": "@jupyter-widgets/controls",
          "model_name": "HTMLModel",
          "model_module_version": "1.5.0",
          "state": {
            "_dom_classes": [],
            "_model_module": "@jupyter-widgets/controls",
            "_model_module_version": "1.5.0",
            "_model_name": "HTMLModel",
            "_view_count": null,
            "_view_module": "@jupyter-widgets/controls",
            "_view_module_version": "1.5.0",
            "_view_name": "HTMLView",
            "description": "",
            "description_tooltip": null,
            "layout": "IPY_MODEL_f3018931909a4c72906fe50d37379684",
            "placeholder": "​",
            "style": "IPY_MODEL_144d67e969994fdd8a4476976b413b63",
            "value": "Batches: 100%"
          }
        },
        "83915118d86b4a62815876c72f6445be": {
          "model_module": "@jupyter-widgets/controls",
          "model_name": "FloatProgressModel",
          "model_module_version": "1.5.0",
          "state": {
            "_dom_classes": [],
            "_model_module": "@jupyter-widgets/controls",
            "_model_module_version": "1.5.0",
            "_model_name": "FloatProgressModel",
            "_view_count": null,
            "_view_module": "@jupyter-widgets/controls",
            "_view_module_version": "1.5.0",
            "_view_name": "ProgressView",
            "bar_style": "success",
            "description": "",
            "description_tooltip": null,
            "layout": "IPY_MODEL_cf525cbf65a74335af3c5c685a952f7a",
            "max": 32,
            "min": 0,
            "orientation": "horizontal",
            "style": "IPY_MODEL_cba855978cb64c49bf4f686c51bb265e",
            "value": 32
          }
        },
        "acfc09cd891a446dbf5f8da1603ee85a": {
          "model_module": "@jupyter-widgets/controls",
          "model_name": "HTMLModel",
          "model_module_version": "1.5.0",
          "state": {
            "_dom_classes": [],
            "_model_module": "@jupyter-widgets/controls",
            "_model_module_version": "1.5.0",
            "_model_name": "HTMLModel",
            "_view_count": null,
            "_view_module": "@jupyter-widgets/controls",
            "_view_module_version": "1.5.0",
            "_view_name": "HTMLView",
            "description": "",
            "description_tooltip": null,
            "layout": "IPY_MODEL_1caa08ebff30418aa5bc4b542deba34b",
            "placeholder": "​",
            "style": "IPY_MODEL_d8737eff8b8a495c97a7c4fc6938975f",
            "value": " 32/32 [00:00&lt;00:00, 84.70it/s]"
          }
        },
        "575b62fd72e5472eab8af629852a85b3": {
          "model_module": "@jupyter-widgets/base",
          "model_name": "LayoutModel",
          "model_module_version": "1.2.0",
          "state": {
            "_model_module": "@jupyter-widgets/base",
            "_model_module_version": "1.2.0",
            "_model_name": "LayoutModel",
            "_view_count": null,
            "_view_module": "@jupyter-widgets/base",
            "_view_module_version": "1.2.0",
            "_view_name": "LayoutView",
            "align_content": null,
            "align_items": null,
            "align_self": null,
            "border": null,
            "bottom": null,
            "display": null,
            "flex": null,
            "flex_flow": null,
            "grid_area": null,
            "grid_auto_columns": null,
            "grid_auto_flow": null,
            "grid_auto_rows": null,
            "grid_column": null,
            "grid_gap": null,
            "grid_row": null,
            "grid_template_areas": null,
            "grid_template_columns": null,
            "grid_template_rows": null,
            "height": null,
            "justify_content": null,
            "justify_items": null,
            "left": null,
            "margin": null,
            "max_height": null,
            "max_width": null,
            "min_height": null,
            "min_width": null,
            "object_fit": null,
            "object_position": null,
            "order": null,
            "overflow": null,
            "overflow_x": null,
            "overflow_y": null,
            "padding": null,
            "right": null,
            "top": null,
            "visibility": null,
            "width": null
          }
        },
        "f3018931909a4c72906fe50d37379684": {
          "model_module": "@jupyter-widgets/base",
          "model_name": "LayoutModel",
          "model_module_version": "1.2.0",
          "state": {
            "_model_module": "@jupyter-widgets/base",
            "_model_module_version": "1.2.0",
            "_model_name": "LayoutModel",
            "_view_count": null,
            "_view_module": "@jupyter-widgets/base",
            "_view_module_version": "1.2.0",
            "_view_name": "LayoutView",
            "align_content": null,
            "align_items": null,
            "align_self": null,
            "border": null,
            "bottom": null,
            "display": null,
            "flex": null,
            "flex_flow": null,
            "grid_area": null,
            "grid_auto_columns": null,
            "grid_auto_flow": null,
            "grid_auto_rows": null,
            "grid_column": null,
            "grid_gap": null,
            "grid_row": null,
            "grid_template_areas": null,
            "grid_template_columns": null,
            "grid_template_rows": null,
            "height": null,
            "justify_content": null,
            "justify_items": null,
            "left": null,
            "margin": null,
            "max_height": null,
            "max_width": null,
            "min_height": null,
            "min_width": null,
            "object_fit": null,
            "object_position": null,
            "order": null,
            "overflow": null,
            "overflow_x": null,
            "overflow_y": null,
            "padding": null,
            "right": null,
            "top": null,
            "visibility": null,
            "width": null
          }
        },
        "144d67e969994fdd8a4476976b413b63": {
          "model_module": "@jupyter-widgets/controls",
          "model_name": "DescriptionStyleModel",
          "model_module_version": "1.5.0",
          "state": {
            "_model_module": "@jupyter-widgets/controls",
            "_model_module_version": "1.5.0",
            "_model_name": "DescriptionStyleModel",
            "_view_count": null,
            "_view_module": "@jupyter-widgets/base",
            "_view_module_version": "1.2.0",
            "_view_name": "StyleView",
            "description_width": ""
          }
        },
        "cf525cbf65a74335af3c5c685a952f7a": {
          "model_module": "@jupyter-widgets/base",
          "model_name": "LayoutModel",
          "model_module_version": "1.2.0",
          "state": {
            "_model_module": "@jupyter-widgets/base",
            "_model_module_version": "1.2.0",
            "_model_name": "LayoutModel",
            "_view_count": null,
            "_view_module": "@jupyter-widgets/base",
            "_view_module_version": "1.2.0",
            "_view_name": "LayoutView",
            "align_content": null,
            "align_items": null,
            "align_self": null,
            "border": null,
            "bottom": null,
            "display": null,
            "flex": null,
            "flex_flow": null,
            "grid_area": null,
            "grid_auto_columns": null,
            "grid_auto_flow": null,
            "grid_auto_rows": null,
            "grid_column": null,
            "grid_gap": null,
            "grid_row": null,
            "grid_template_areas": null,
            "grid_template_columns": null,
            "grid_template_rows": null,
            "height": null,
            "justify_content": null,
            "justify_items": null,
            "left": null,
            "margin": null,
            "max_height": null,
            "max_width": null,
            "min_height": null,
            "min_width": null,
            "object_fit": null,
            "object_position": null,
            "order": null,
            "overflow": null,
            "overflow_x": null,
            "overflow_y": null,
            "padding": null,
            "right": null,
            "top": null,
            "visibility": null,
            "width": null
          }
        },
        "cba855978cb64c49bf4f686c51bb265e": {
          "model_module": "@jupyter-widgets/controls",
          "model_name": "ProgressStyleModel",
          "model_module_version": "1.5.0",
          "state": {
            "_model_module": "@jupyter-widgets/controls",
            "_model_module_version": "1.5.0",
            "_model_name": "ProgressStyleModel",
            "_view_count": null,
            "_view_module": "@jupyter-widgets/base",
            "_view_module_version": "1.2.0",
            "_view_name": "StyleView",
            "bar_color": null,
            "description_width": ""
          }
        },
        "1caa08ebff30418aa5bc4b542deba34b": {
          "model_module": "@jupyter-widgets/base",
          "model_name": "LayoutModel",
          "model_module_version": "1.2.0",
          "state": {
            "_model_module": "@jupyter-widgets/base",
            "_model_module_version": "1.2.0",
            "_model_name": "LayoutModel",
            "_view_count": null,
            "_view_module": "@jupyter-widgets/base",
            "_view_module_version": "1.2.0",
            "_view_name": "LayoutView",
            "align_content": null,
            "align_items": null,
            "align_self": null,
            "border": null,
            "bottom": null,
            "display": null,
            "flex": null,
            "flex_flow": null,
            "grid_area": null,
            "grid_auto_columns": null,
            "grid_auto_flow": null,
            "grid_auto_rows": null,
            "grid_column": null,
            "grid_gap": null,
            "grid_row": null,
            "grid_template_areas": null,
            "grid_template_columns": null,
            "grid_template_rows": null,
            "height": null,
            "justify_content": null,
            "justify_items": null,
            "left": null,
            "margin": null,
            "max_height": null,
            "max_width": null,
            "min_height": null,
            "min_width": null,
            "object_fit": null,
            "object_position": null,
            "order": null,
            "overflow": null,
            "overflow_x": null,
            "overflow_y": null,
            "padding": null,
            "right": null,
            "top": null,
            "visibility": null,
            "width": null
          }
        },
        "d8737eff8b8a495c97a7c4fc6938975f": {
          "model_module": "@jupyter-widgets/controls",
          "model_name": "DescriptionStyleModel",
          "model_module_version": "1.5.0",
          "state": {
            "_model_module": "@jupyter-widgets/controls",
            "_model_module_version": "1.5.0",
            "_model_name": "DescriptionStyleModel",
            "_view_count": null,
            "_view_module": "@jupyter-widgets/base",
            "_view_module_version": "1.2.0",
            "_view_name": "StyleView",
            "description_width": ""
          }
        }
      }
    }
  },
  "nbformat": 4,
  "nbformat_minor": 5
}